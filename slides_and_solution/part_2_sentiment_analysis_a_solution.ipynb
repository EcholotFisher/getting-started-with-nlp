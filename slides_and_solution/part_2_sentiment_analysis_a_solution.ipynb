{
 "cells": [
  {
   "cell_type": "markdown",
   "metadata": {},
   "source": [
    "# Sentiment analysis\n",
    "\n",
    "Your time to shine!"
   ]
  },
  {
   "cell_type": "markdown",
   "metadata": {},
   "source": [
    "We will use data from `Amazon Reviews: Unlocked Mobile Phones`, available on Kaggle platform and described as:\n",
    "\n",
    "> PromptCloud extracted 400 thousand reviews of unlocked mobile phones sold on Amazon.com to find out insights with respect to reviews, ratings, price and their relationships. \\[...\\] Data was acquired in December, 2016 by the crawlers build to deliver \\[their\\] data extraction services.\n",
    "\n",
    "([source](https://www.kaggle.com/PromptCloudHQ/amazon-reviews-unlocked-mobile-phones/data#))"
   ]
  },
  {
   "cell_type": "markdown",
   "metadata": {},
   "source": [
    "#### Load useful librairies and data"
   ]
  },
  {
   "cell_type": "code",
   "execution_count": 1,
   "metadata": {},
   "outputs": [],
   "source": [
    "import pandas as pd\n",
    "import numpy as np\n",
    "\n",
    "import nltk\n",
    "\n",
    "from sklearn.model_selection import train_test_split\n",
    "from sklearn.feature_extraction.text import CountVectorizer, TfidfVectorizer\n",
    "from sklearn.linear_model import LogisticRegression\n",
    "from sklearn.naive_bayes import MultinomialNB\n",
    "from sklearn.metrics import roc_auc_score"
   ]
  },
  {
   "cell_type": "code",
   "execution_count": 2,
   "metadata": {},
   "outputs": [],
   "source": [
    "# Load data\n",
    "data = pd.read_csv('./data/644_1225_compressed_Amazon_Unlocked_Mobile.csv.zip', compression=\"zip\")\n",
    "\n",
    "# Let's keep only a fraction of the data to speed up computations\n",
    "data = data.sample(frac=0.1, random_state=10)\n",
    "\n",
    "# Drop missing values\n",
    "data.dropna(inplace=True)\n",
    "\n",
    "# Remove any 'neutral' ratings equal to 3\n",
    "data = data[data['Rating'] != 3]\n",
    "\n",
    "# Consider 4 and 5 as positive ratings (encoded as 1)\n",
    "# and 1 and 2 as negative ones (encoded as 0)\n",
    "data['positive_rating'] = np.where(data['Rating'] > 3, 1, 0)"
   ]
  },
  {
   "cell_type": "code",
   "execution_count": 3,
   "metadata": {},
   "outputs": [
    {
     "data": {
      "text/html": [
       "<div>\n",
       "<style scoped>\n",
       "    .dataframe tbody tr th:only-of-type {\n",
       "        vertical-align: middle;\n",
       "    }\n",
       "\n",
       "    .dataframe tbody tr th {\n",
       "        vertical-align: top;\n",
       "    }\n",
       "\n",
       "    .dataframe thead th {\n",
       "        text-align: right;\n",
       "    }\n",
       "</style>\n",
       "<table border=\"1\" class=\"dataframe\">\n",
       "  <thead>\n",
       "    <tr style=\"text-align: right;\">\n",
       "      <th></th>\n",
       "      <th>Product Name</th>\n",
       "      <th>Brand Name</th>\n",
       "      <th>Price</th>\n",
       "      <th>Rating</th>\n",
       "      <th>Reviews</th>\n",
       "      <th>Review Votes</th>\n",
       "      <th>positive_rating</th>\n",
       "    </tr>\n",
       "  </thead>\n",
       "  <tbody>\n",
       "    <tr>\n",
       "      <th>119671</th>\n",
       "      <td>BLU Energy X Plus Smartphone - With 4000 mAh S...</td>\n",
       "      <td>BLU</td>\n",
       "      <td>139.00</td>\n",
       "      <td>5</td>\n",
       "      <td>I love blu products this ia my 3rd one and i a...</td>\n",
       "      <td>0.0</td>\n",
       "      <td>1</td>\n",
       "    </tr>\n",
       "    <tr>\n",
       "      <th>109368</th>\n",
       "      <td>BLU Dash J Unlocked Phone - Retail Packaging -...</td>\n",
       "      <td>BLU</td>\n",
       "      <td>39.99</td>\n",
       "      <td>2</td>\n",
       "      <td>Hard to use! Didn't get all the service</td>\n",
       "      <td>0.0</td>\n",
       "      <td>0</td>\n",
       "    </tr>\n",
       "    <tr>\n",
       "      <th>188997</th>\n",
       "      <td>HTC DROID INCREDIBLE 2 Android Phone, Black (V...</td>\n",
       "      <td>HTC</td>\n",
       "      <td>83.98</td>\n",
       "      <td>4</td>\n",
       "      <td>Is awesome I like it alot is a really good pho...</td>\n",
       "      <td>0.0</td>\n",
       "      <td>1</td>\n",
       "    </tr>\n",
       "  </tbody>\n",
       "</table>\n",
       "</div>"
      ],
      "text/plain": [
       "                                             Product Name Brand Name   Price  \\\n",
       "119671  BLU Energy X Plus Smartphone - With 4000 mAh S...        BLU  139.00   \n",
       "109368  BLU Dash J Unlocked Phone - Retail Packaging -...        BLU   39.99   \n",
       "188997  HTC DROID INCREDIBLE 2 Android Phone, Black (V...        HTC   83.98   \n",
       "\n",
       "        Rating                                            Reviews  \\\n",
       "119671       5  I love blu products this ia my 3rd one and i a...   \n",
       "109368       2            Hard to use! Didn't get all the service   \n",
       "188997       4  Is awesome I like it alot is a really good pho...   \n",
       "\n",
       "        Review Votes  positive_rating  \n",
       "119671           0.0                1  \n",
       "109368           0.0                0  \n",
       "188997           0.0                1  "
      ]
     },
     "execution_count": 3,
     "metadata": {},
     "output_type": "execute_result"
    }
   ],
   "source": [
    "data.sample(3)"
   ]
  },
  {
   "cell_type": "markdown",
   "metadata": {},
   "source": [
    "## Data exploration\n",
    "\n",
    "Before diving into the sentiment analysis, what can you tell me about the data?"
   ]
  },
  {
   "cell_type": "code",
   "execution_count": 4,
   "metadata": {},
   "outputs": [
    {
     "name": "stdout",
     "output_type": "stream",
     "text": [
      "Dataset contains 30737 instances of 7 variables.\n",
      "It contains 22966 positive ratings (74.7% of all)\n"
     ]
    }
   ],
   "source": [
    "print(\"Dataset contains {} instances of {} variables.\".format(data.shape[0], data.shape[1]))\n",
    "\n",
    "print(\n",
    "    \"It contains {} positive ratings ({:.1%} of all)\".format(\n",
    "        data[data.positive_rating == 1].shape[0],\n",
    "        data[data.positive_rating == 1].shape[0] / data.shape[0],\n",
    "    )\n",
    ")"
   ]
  },
  {
   "cell_type": "code",
   "execution_count": 5,
   "metadata": {},
   "outputs": [
    {
     "name": "stdout",
     "output_type": "stream",
     "text": [
      "Examples of positive ratings: \n",
      "    The service was perfect, the phone very good but my only problem is with the battery.I leave it during the night on, and in the morning is 30% less charged..I have to charge it during mid-day in order to be up & running until the night.Has anyone else faced that?\n",
      "    Only thing I would not link it with my email account, all my contacts were deleted. Not the phone is was google!\n",
      "\n",
      "Examples of negative ratings: \n",
      "    I bought the phone because it said it was unlocked and it would work worldwide, turns out that the bandwidth that the phone can detect does not support the 3g network in europe, at least in Germany where i live. I bought it expecting it to work properly and here it can only detect gsm signal. So all of the features on the phone work slower and i can't really use it like i wanted. So if you want an international phone do not buy it, if it is for the states i guess it is ok!\n",
      "    I knew I was buying a used phone but I wasn't expecting there to be text messages on it still...\n"
     ]
    }
   ],
   "source": [
    "print(\n",
    "    \"Examples of positive ratings: \\n    {}\\n    {}\".format(\n",
    "        data[data.positive_rating == 1].sample(1).Reviews.iloc[0],\n",
    "        data[data.positive_rating == 1].sample(1).Reviews.iloc[0],\n",
    "    )\n",
    ")\n",
    "print(\n",
    "    \"\\nExamples of negative ratings: \\n    {}\\n    {}\".format(\n",
    "        data[data.positive_rating == 0].sample(1).Reviews.iloc[0],\n",
    "        data[data.positive_rating == 0].sample(1).Reviews.iloc[0],\n",
    "    )\n",
    ")"
   ]
  },
  {
   "cell_type": "markdown",
   "metadata": {},
   "source": [
    "#### Suggestions from workshop participants"
   ]
  },
  {
   "cell_type": "code",
   "execution_count": 18,
   "metadata": {},
   "outputs": [
    {
     "data": {
      "text/plain": [
       "Price               4.045777\n",
       "Rating             -1.044417\n",
       "Review Votes       23.270162\n",
       "positive_rating    -1.137472\n",
       "dtype: float64"
      ]
     },
     "execution_count": 18,
     "metadata": {},
     "output_type": "execute_result"
    }
   ],
   "source": [
    "data.skew()"
   ]
  },
  {
   "cell_type": "code",
   "execution_count": 19,
   "metadata": {},
   "outputs": [
    {
     "data": {
      "text/plain": [
       "count    30737.000000\n",
       "mean         1.447571\n",
       "std          8.026212\n",
       "min          0.000000\n",
       "25%          0.000000\n",
       "50%          0.000000\n",
       "75%          1.000000\n",
       "max        524.000000\n",
       "Name: Review Votes, dtype: float64"
      ]
     },
     "execution_count": 19,
     "metadata": {},
     "output_type": "execute_result"
    }
   ],
   "source": [
    "data[\"Review Votes\"].describe()"
   ]
  },
  {
   "cell_type": "code",
   "execution_count": 21,
   "metadata": {},
   "outputs": [
    {
     "name": "stdout",
     "output_type": "stream",
     "text": [
      "<class 'pandas.core.frame.DataFrame'>\n",
      "Int64Index: 30737 entries, 34377 to 109303\n",
      "Data columns (total 7 columns):\n",
      " #   Column           Non-Null Count  Dtype  \n",
      "---  ------           --------------  -----  \n",
      " 0   Product Name     30737 non-null  object \n",
      " 1   Brand Name       30737 non-null  object \n",
      " 2   Price            30737 non-null  float64\n",
      " 3   Rating           30737 non-null  int64  \n",
      " 4   Reviews          30737 non-null  object \n",
      " 5   Review Votes     30737 non-null  float64\n",
      " 6   positive_rating  30737 non-null  int64  \n",
      "dtypes: float64(2), int64(2), object(3)\n",
      "memory usage: 1.9+ MB\n"
     ]
    }
   ],
   "source": [
    "data.info()"
   ]
  },
  {
   "cell_type": "code",
   "execution_count": 25,
   "metadata": {},
   "outputs": [],
   "source": [
    "import matplotlib"
   ]
  },
  {
   "cell_type": "code",
   "execution_count": 26,
   "metadata": {},
   "outputs": [
    {
     "data": {
      "text/plain": [
       "<AxesSubplot:>"
      ]
     },
     "execution_count": 26,
     "metadata": {},
     "output_type": "execute_result"
    },
    {
     "data": {
      "image/png": "[encoded data removed]",
      "text/plain": [
       "<Figure size 432x288 with 1 Axes>"
      ]
     },
     "metadata": {
      "needs_background": "light"
     },
     "output_type": "display_data"
    }
   ],
   "source": [
    "data['Reviews'].str.len().clip(0,1000).hist()"
   ]
  },
  {
   "cell_type": "markdown",
   "metadata": {},
   "source": [
    "## Sentiment analysis"
   ]
  },
  {
   "cell_type": "code",
   "execution_count": 6,
   "metadata": {},
   "outputs": [],
   "source": [
    "# Split data into training and test sets\n",
    "X_train, X_test, y_train, y_test = train_test_split(\n",
    "    data['Reviews'], data['positive_rating'], random_state=0\n",
    ")"
   ]
  },
  {
   "cell_type": "markdown",
   "metadata": {},
   "source": [
    "Let's investigate positive / negative review classification.\n",
    "\n",
    "#### With CountVectorizer\n",
    "\n",
    "* What would be the AUC score (on test data) of a classifier using CountVectorizer and a Logistic Regression model (with `max_iter=1500`)?\n"
   ]
  },
  {
   "cell_type": "code",
   "execution_count": 7,
   "metadata": {},
   "outputs": [
    {
     "name": "stdout",
     "output_type": "stream",
     "text": [
      "AUC = 0.897\n"
     ]
    }
   ],
   "source": [
    "# Fit the CountVectorizer to the training data\n",
    "vect = CountVectorizer().fit(X_train)\n",
    "\n",
    "# transform the documents in the training data to a document-term matrix\n",
    "X_train_vectorized = vect.transform(X_train)\n",
    "\n",
    "# Train the model\n",
    "model = LogisticRegression(max_iter=1500)\n",
    "model.fit(X_train_vectorized, y_train)\n",
    "\n",
    "# Predict the transformed test documents\n",
    "predictions = model.predict(vect.transform(X_test))\n",
    "\n",
    "print(\"AUC = {:.3f}\".format(roc_auc_score(y_test, predictions)))"
   ]
  },
  {
   "cell_type": "markdown",
   "metadata": {},
   "source": [
    "* With the classifier built above, which 20 tokens are the most associated with negative reviews?"
   ]
  },
  {
   "cell_type": "code",
   "execution_count": 8,
   "metadata": {},
   "outputs": [
    {
     "name": "stdout",
     "output_type": "stream",
     "text": [
      "Smallest Coefs:\n",
      "['worst' 'terrible' 'slow' 'junk' 'poor' 'sucks' 'horrible' 'useless'\n",
      " 'waste' 'disappointed' 'broke' 'broken' 'sucked' 'defective' 'garbage'\n",
      " 'wasn' 'freezes' 'wouldn' 'died' 'doesn']\n",
      "\n"
     ]
    }
   ],
   "source": [
    "# get the feature names as numpy array\n",
    "feature_names = np.array(vect.get_feature_names())\n",
    "\n",
    "# Sort the coefficients from the model\n",
    "sorted_coef_index = model.coef_[0].argsort()\n",
    "\n",
    "# Find the 20 smallest coefficients\n",
    "print(\"Smallest Coefs:\\n{}\\n\".format(feature_names[sorted_coef_index[:20]]))"
   ]
  },
  {
   "cell_type": "markdown",
   "metadata": {},
   "source": [
    "* With the classifier built above, which 20 tokens are the most associated with positive reviews?"
   ]
  },
  {
   "cell_type": "code",
   "execution_count": 9,
   "metadata": {},
   "outputs": [
    {
     "name": "stdout",
     "output_type": "stream",
     "text": [
      "Largest Coefs: \n",
      "['excelent' 'excelente' 'excellent' 'perfectly' 'love' 'perfect' 'exactly'\n",
      " 'great' 'best' 'awesome' 'loves' 'amazing' 'wonderful' 'fantastic' 'nice'\n",
      " 'exelente' 'good' 'bueno' 'loving' 'perfecto']\n"
     ]
    }
   ],
   "source": [
    "# Find the 20 largest coefficients\n",
    "print(\"Largest Coefs: \\n{}\".format(feature_names[sorted_coef_index[:-21:-1]]))"
   ]
  },
  {
   "cell_type": "markdown",
   "metadata": {},
   "source": [
    "#### With TF-IDF Vectorizer\n",
    "\n",
    "* What would be the AUC score (on test data) of a classifier using TfidfVectorizer and a Logistic Regression model (with `max_iter=1500`)?\n"
   ]
  },
  {
   "cell_type": "code",
   "execution_count": 10,
   "metadata": {},
   "outputs": [
    {
     "name": "stdout",
     "output_type": "stream",
     "text": [
      "AUC = 0.890\n"
     ]
    }
   ],
   "source": [
    "# TfidfVectorizer specifiying a minimum document frequency of 3\n",
    "vect = TfidfVectorizer(min_df=3).fit(X_train)\n",
    "\n",
    "# transform the documents in the training data to a document-term matrix\n",
    "X_train_vectorized = vect.transform(X_train)\n",
    "\n",
    "# Train the model\n",
    "model = LogisticRegression(max_iter=1500)\n",
    "model.fit(X_train_vectorized, y_train)\n",
    "\n",
    "# Predict the transformed test documents\n",
    "predictions = model.predict(vect.transform(X_test))\n",
    "\n",
    "print(\"AUC = {:.3f}\".format(roc_auc_score(y_test, predictions)))"
   ]
  },
  {
   "cell_type": "markdown",
   "metadata": {},
   "source": [
    "* Which tokens have the 10 smallest and 10 largest TF-IDF coefficients?"
   ]
  },
  {
   "cell_type": "code",
   "execution_count": 11,
   "metadata": {},
   "outputs": [
    {
     "name": "stdout",
     "output_type": "stream",
     "text": [
      "Smallest tfidf:\n",
      "['peppy' 'puffin' 'funddo' 'oblong' 'solute' 'benzene' 'corrosive'\n",
      " 'callsaccessories' 'calories' 'stewards']\n",
      "\n",
      "Largest tfidf: \n",
      "['case' 'amazing' 'hi' 'too' 'top' 'tops' 'very' 'exelente' 'exelent'\n",
      " 'christopher']\n"
     ]
    }
   ],
   "source": [
    "feature_names = np.array(vect.get_feature_names())\n",
    "\n",
    "sorted_tfidf_index = X_train_vectorized.max(0).toarray()[0].argsort()\n",
    "\n",
    "print(\"Smallest tfidf:\\n{}\\n\".format(feature_names[sorted_tfidf_index[:10]]))\n",
    "print(\"Largest tfidf: \\n{}\".format(feature_names[sorted_tfidf_index[:-11:-1]]))"
   ]
  },
  {
   "cell_type": "markdown",
   "metadata": {},
   "source": [
    "* With the classifier built above, which 20 tokens are the most associated with negative reviews?"
   ]
  },
  {
   "cell_type": "code",
   "execution_count": 12,
   "metadata": {},
   "outputs": [
    {
     "name": "stdout",
     "output_type": "stream",
     "text": [
      "Smallest Coefs:\n",
      "['not' 'slow' 'disappointed' 'worst' 'terrible' 'return' 'never' 'doesn'\n",
      " 'horrible' 'waste' 'poor' 'months' 'broken' 'sucks' 'broke' 'wasn' 'work'\n",
      " 'junk' 'off' 'useless']\n",
      "\n"
     ]
    }
   ],
   "source": [
    "# Sort the coefficients from the model\n",
    "sorted_coef_index = model.coef_[0].argsort()\n",
    "\n",
    "# Find the 20 smallest coefficients\n",
    "print(\"Smallest Coefs:\\n{}\\n\".format(feature_names[sorted_coef_index[:20]]))"
   ]
  },
  {
   "cell_type": "markdown",
   "metadata": {},
   "source": [
    "* With the classifier built above, which 20 tokens are the most associated with positive reviews?"
   ]
  },
  {
   "cell_type": "code",
   "execution_count": 13,
   "metadata": {},
   "outputs": [
    {
     "name": "stdout",
     "output_type": "stream",
     "text": [
      "Largest Coefs: \n",
      "['great' 'love' 'excellent' 'good' 'best' 'perfect' 'price' 'awesome'\n",
      " 'far' 'perfectly' 'excelente' 'nice' 'amazing' 'easy' 'excelent'\n",
      " 'exactly' 'loves' 'fast' 'happy' 'my']\n"
     ]
    }
   ],
   "source": [
    "# Find the 20 largest coefficients\n",
    "print(\"Largest Coefs: \\n{}\".format(feature_names[sorted_coef_index[:-21:-1]]))"
   ]
  },
  {
   "cell_type": "markdown",
   "metadata": {},
   "source": [
    "## Testing our sentiment analyizer\n",
    "\n",
    "Are our classifiers able to discriminate the following reviews:\n",
    "* 'not an issue, phone is working'\n",
    "* 'an issue, phone is not working'\n",
    "\n",
    "?"
   ]
  },
  {
   "cell_type": "code",
   "execution_count": 14,
   "metadata": {},
   "outputs": [
    {
     "name": "stdout",
     "output_type": "stream",
     "text": [
      "[0 0]\n"
     ]
    }
   ],
   "source": [
    "print(model.predict(vect.transform(['not an issue, phone is working',\n",
    "                                    'an issue, phone is not working'])))"
   ]
  },
  {
   "cell_type": "markdown",
   "metadata": {},
   "source": [
    "What seems to be the issue?"
   ]
  },
  {
   "cell_type": "markdown",
   "metadata": {},
   "source": [
    "## Toward improving our positive / negative review classifier\n",
    "\n",
    "_Hint to move forward_ : Consider the option `ngram_range` of `CountVectorizer`"
   ]
  },
  {
   "cell_type": "code",
   "execution_count": 15,
   "metadata": {},
   "outputs": [
    {
     "name": "stdout",
     "output_type": "stream",
     "text": [
      "AUC = 0.911\n"
     ]
    }
   ],
   "source": [
    "# In addition to words alone, let's consider 2-word combinations\n",
    "vect = CountVectorizer(min_df=5, ngram_range=(1,2)).fit(X_train)\n",
    "\n",
    "X_train_vectorized = vect.transform(X_train)\n",
    "\n",
    "model = LogisticRegression(max_iter=1500)\n",
    "model.fit(X_train_vectorized, y_train)\n",
    "\n",
    "predictions = model.predict(vect.transform(X_test))\n",
    "\n",
    "print(\"AUC = {:.3f}\".format(roc_auc_score(y_test, predictions)))"
   ]
  },
  {
   "cell_type": "code",
   "execution_count": 16,
   "metadata": {},
   "outputs": [
    {
     "name": "stdout",
     "output_type": "stream",
     "text": [
      "Smallest Coefs:\n",
      "['no good' 'junk' 'poor' 'slow' 'worst' 'broken' 'not good' 'terrible'\n",
      " 'defective' 'horrible']\n",
      "\n",
      "Largest Coefs: \n",
      "['excellent' 'excelente' 'excelent' 'perfect' 'great' 'love' 'awesome'\n",
      " 'no problems' 'good' 'best']\n"
     ]
    }
   ],
   "source": [
    "feature_names = np.array(vect.get_feature_names())\n",
    "\n",
    "sorted_coef_index = model.coef_[0].argsort()\n",
    "\n",
    "print('Smallest Coefs:\\n{}\\n'.format(feature_names[sorted_coef_index[:10]]))\n",
    "print('Largest Coefs: \\n{}'.format(feature_names[sorted_coef_index[:-11:-1]]))"
   ]
  },
  {
   "cell_type": "markdown",
   "metadata": {},
   "source": [
    "Is the issue now fixed?"
   ]
  },
  {
   "cell_type": "code",
   "execution_count": 17,
   "metadata": {},
   "outputs": [
    {
     "name": "stdout",
     "output_type": "stream",
     "text": [
      "[1 0]\n"
     ]
    }
   ],
   "source": [
    "print(model.predict(vect.transform(['not an issue, phone is working',\n",
    "                                    'an issue, phone is not working'])))"
   ]
  }
 ],
 "metadata": {
  "kernelspec": {
   "display_name": "Python 3",
   "language": "python",
   "name": "python3"
  },
  "language_info": {
   "codemirror_mode": {
    "name": "ipython",
    "version": 3
   },
   "file_extension": ".py",
   "mimetype": "text/x-python",
   "name": "python",
   "nbconvert_exporter": "python",
   "pygments_lexer": "ipython3",
   "version": "3.7.6"
  }
 },
 "nbformat": 4,
 "nbformat_minor": 4
}
